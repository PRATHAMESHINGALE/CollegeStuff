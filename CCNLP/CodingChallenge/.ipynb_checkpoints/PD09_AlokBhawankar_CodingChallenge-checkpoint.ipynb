{
 "cells": [
  {
   "cell_type": "code",
   "execution_count": 44,
   "metadata": {},
   "outputs": [],
   "source": [
    "# Text to Speech\n",
    "from ibm_watson import TextToSpeechV1\n",
    "from ibm_cloud_sdk_core.authenticators import IAMAuthenticator"
   ]
  },
  {
   "cell_type": "code",
   "execution_count": 45,
   "metadata": {},
   "outputs": [],
   "source": [
    "apikey_tts = 'T090Yfa2lYvUGheRB3JhpKxVCx59dD4d8P0VBd6Wsmrm'\n",
    "url_tts = 'https://api.eu-gb.text-to-speech.watson.cloud.ibm.com/instances/41b5fe95-a6d7-4667-90aa-a6a8ae5d2800'"
   ]
  },
  {
   "cell_type": "code",
   "execution_count": 46,
   "metadata": {},
   "outputs": [],
   "source": [
    "tts = TextToSpeechV1(authenticator=IAMAuthenticator(apikey_tts))\n",
    "tts.set_service_url(url_tts)"
   ]
  },
  {
   "cell_type": "code",
   "execution_count": 48,
   "metadata": {},
   "outputs": [
    {
     "name": "stdout",
     "output_type": "stream",
     "text": [
      "this is the test file\n"
     ]
    }
   ],
   "source": [
    "text = input()\n",
    "with open('./speech.mp3', 'wb') as audio_file:\n",
    "    res = tts.synthesize(text, accept='audio/mp3').get_result()\n",
    "    audio_file.write(res.content)"
   ]
  },
  {
   "cell_type": "code",
   "execution_count": 49,
   "metadata": {},
   "outputs": [],
   "source": [
    "#Speech to Text\n",
    "import json \n",
    "from ibm_watson import SpeechToTextV1 \n",
    "from ibm_watson.websocket import RecognizeCallback, AudioSource "
   ]
  },
  {
   "cell_type": "code",
   "execution_count": 50,
   "metadata": {},
   "outputs": [],
   "source": [
    "apikey_stt = 'i6KmqQDlrClwUSXW57LIVgwB--2ex0gO3dJHLCJCWIbX'\n",
    "url_stt = 'https://api.eu-gb.speech-to-text.watson.cloud.ibm.com/instances/a04b78ef-cd1f-4776-b379-1d81d25df526'"
   ]
  },
  {
   "cell_type": "code",
   "execution_count": 51,
   "metadata": {},
   "outputs": [],
   "source": [
    "stt = SpeechToTextV1(authenticator=IAMAuthenticator(apikey_stt))\n",
    "stt.set_service_url(url_stt)"
   ]
  },
  {
   "cell_type": "code",
   "execution_count": 52,
   "metadata": {},
   "outputs": [
    {
     "name": "stdout",
     "output_type": "stream",
     "text": [
      "this is a test file \n"
     ]
    }
   ],
   "source": [
    "with open('./speech.mp3', 'rb') as audio_file:\n",
    "    dic = json.loads(json.dumps(stt.recognize(audio=audio_file,model='en-US_NarrowbandModel', \n",
    "                    continuous=True).get_result(), indent=2)) \n",
    "\n",
    "str = \"\" \n",
    "while bool(dic.get('results')): \n",
    "    str = dic.get('results').pop().get('alternatives').pop().get('transcript')+str[:] \n",
    "       \n",
    "print(str) "
   ]
  },
  {
   "cell_type": "code",
   "execution_count": null,
   "metadata": {},
   "outputs": [],
   "source": []
  }
 ],
 "metadata": {
  "kernelspec": {
   "display_name": "Python 3",
   "language": "python",
   "name": "python3"
  },
  "language_info": {
   "codemirror_mode": {
    "name": "ipython",
    "version": 3
   },
   "file_extension": ".py",
   "mimetype": "text/x-python",
   "name": "python",
   "nbconvert_exporter": "python",
   "pygments_lexer": "ipython3",
   "version": "3.8.5"
  }
 },
 "nbformat": 4,
 "nbformat_minor": 4
}
