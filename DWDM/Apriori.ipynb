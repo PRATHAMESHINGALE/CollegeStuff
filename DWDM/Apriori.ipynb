{
 "cells": [
  {
   "cell_type": "code",
   "execution_count": 50,
   "metadata": {},
   "outputs": [],
   "source": [
    "from itertools import combinations"
   ]
  },
  {
   "cell_type": "code",
   "execution_count": 51,
   "metadata": {},
   "outputs": [],
   "source": [
    "import pandas as pd"
   ]
  },
  {
   "cell_type": "code",
   "execution_count": 52,
   "metadata": {},
   "outputs": [],
   "source": [
    "def combi(liname):\n",
    "    t=[]\n",
    "    for i in liname:\n",
    "        for j in range(len(liname)):\n",
    "            if(i!=liname[j]):\n",
    "                p=len(i&liname[j])\n",
    "                if(p==len(liname[j])-1):\n",
    "                    k=i|liname[j]\n",
    "                    if(k not in t):\n",
    "                        t.append(k)\n",
    "    return t"
   ]
  },
  {
   "cell_type": "code",
   "execution_count": 53,
   "metadata": {},
   "outputs": [],
   "source": [
    "def dictToList(dicname):\n",
    "    bking=[]\n",
    "    for i in dicname.keys():\n",
    "        bking.append(set(i.split(',')))\n",
    "    return bking"
   ]
  },
  {
   "cell_type": "code",
   "execution_count": 54,
   "metadata": {},
   "outputs": [],
   "source": [
    "def find2(a,l):\n",
    "    d2={}\n",
    "    for i in a:\n",
    "        for j in l:\n",
    "            if(len(i&j)==len(j)):\n",
    "                mid=list(j)\n",
    "                seprator=','\n",
    "                midday=seprator.join(mid)\n",
    "                if(not midday in d2.keys()):\n",
    "                    d2[midday]=1\n",
    "                else:\n",
    "                    d2[midday]=d2[midday]+1\n",
    "    return d2   \n"
   ]
  },
  {
   "cell_type": "code",
   "execution_count": 55,
   "metadata": {},
   "outputs": [],
   "source": [
    "def find(d,sup):\n",
    "    s={}\n",
    "    for i in d.keys():\n",
    "        if(d[i]>=sup):\n",
    "            s[i]=d[i]\n",
    "    return s"
   ]
  },
  {
   "cell_type": "code",
   "execution_count": 56,
   "metadata": {},
   "outputs": [],
   "source": [
    "def recur(a,lk,ck,pos1,pos2,lis,supp):\n",
    "    f=find2(a,lis)\n",
    "    lk[pos1]=f\n",
    "    pos1=pos1+1\n",
    "    g=find(f,supp)\n",
    "    ck[pos2]=g\n",
    "    pos2=pos2+1\n",
    "    lis=dictToList(g)\n",
    "    cond=combi(lis)\n",
    "    if(len(cond)!=0):\n",
    "        recur(a,lk,ck,pos1,pos2,cond,supp)\n",
    "    return lk,ck\n",
    "    "
   ]
  },
  {
   "cell_type": "code",
   "execution_count": 57,
   "metadata": {},
   "outputs": [],
   "source": [
    "def apriori12(df,supp):\n",
    "    a=[]\n",
    "    for i in range(df.size):\n",
    "        p=list(df.iloc[i])\n",
    "        a.append(set(p[0].split(',')))\n",
    "    d1={}\n",
    "    for i in a:\n",
    "        for j in i:\n",
    "            if(not (j in d1.keys())):\n",
    "               d1[j]=1\n",
    "            else:\n",
    "               d1[j]=d1[j]+1\n",
    "    lk={}\n",
    "    pos1=1\n",
    "    ck={}\n",
    "    pos2=1\n",
    "    lk[pos1]=d1\n",
    "    pos1=pos1+1\n",
    "    ini=find(d1,supp)\n",
    "    ck[pos2]=ini\n",
    "    pos2=pos2+1\n",
    "    dk=list(sorted(ini.keys()))\n",
    "    comb=list(combinations(dk,2))\n",
    "    lis=[]\n",
    "    for i in comb:\n",
    "        lis.append(set(i))\n",
    "    ps1,ps2=recur(a,lk,ck,pos1,pos2,lis,supp)\n",
    "    return ps1,ps2"
   ]
  },
  {
   "cell_type": "code",
   "execution_count": 58,
   "metadata": {},
   "outputs": [],
   "source": [
    "dd=pd.DataFrame([['I1,I2,I5'],['I2,I4'],['I2,I3'],['I1,I2,I4'],['I1,I3'],['I2,I3'],['I1,I3'],['I1,I2,I3,I5'],['I1,I2,I3']],['T1','T2','T3','T4','T5','T6','T7','T8','T9'])"
   ]
  },
  {
   "cell_type": "code",
   "execution_count": 59,
   "metadata": {},
   "outputs": [],
   "source": [
    "pl,sl=apriori12(dd,2)"
   ]
  },
  {
   "cell_type": "code",
   "execution_count": 60,
   "metadata": {},
   "outputs": [
    {
     "data": {
      "text/plain": [
       "{1: {'I5': 2, 'I1': 6, 'I2': 7, 'I4': 2, 'I3': 6},\n",
       " 2: {'I1,I2': 4,\n",
       "  'I5,I1': 2,\n",
       "  'I5,I2': 2,\n",
       "  'I2,I4': 2,\n",
       "  'I2,I3': 4,\n",
       "  'I1,I4': 1,\n",
       "  'I1,I3': 4,\n",
       "  'I5,I3': 1},\n",
       " 3: {'I5,I1,I2': 2,\n",
       "  'I1,I2,I4': 1,\n",
       "  'I1,I2,I3': 2,\n",
       "  'I5,I1,I3': 1,\n",
       "  'I5,I2,I3': 1},\n",
       " 4: {'I5,I1,I2,I3': 1}}"
      ]
     },
     "execution_count": 60,
     "metadata": {},
     "output_type": "execute_result"
    }
   ],
   "source": [
    "pl"
   ]
  },
  {
   "cell_type": "code",
   "execution_count": 61,
   "metadata": {},
   "outputs": [
    {
     "data": {
      "text/plain": [
       "{1: {'I5': 2, 'I1': 6, 'I2': 7, 'I4': 2, 'I3': 6},\n",
       " 2: {'I1,I2': 4, 'I5,I1': 2, 'I5,I2': 2, 'I2,I4': 2, 'I2,I3': 4, 'I1,I3': 4},\n",
       " 3: {'I5,I1,I2': 2, 'I1,I2,I3': 2},\n",
       " 4: {}}"
      ]
     },
     "execution_count": 61,
     "metadata": {},
     "output_type": "execute_result"
    }
   ],
   "source": [
    "sl"
   ]
  },
  {
   "cell_type": "code",
   "execution_count": null,
   "metadata": {},
   "outputs": [],
   "source": []
  }
 ],
 "metadata": {
  "kernelspec": {
   "display_name": "Python 3",
   "language": "python",
   "name": "python3"
  },
  "language_info": {
   "codemirror_mode": {
    "name": "ipython",
    "version": 3
   },
   "file_extension": ".py",
   "mimetype": "text/x-python",
   "name": "python",
   "nbconvert_exporter": "python",
   "pygments_lexer": "ipython3",
   "version": "3.7.4"
  }
 },
 "nbformat": 4,
 "nbformat_minor": 2
}
